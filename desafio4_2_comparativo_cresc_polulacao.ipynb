{
  "nbformat": 4,
  "nbformat_minor": 0,
  "metadata": {
    "colab": {
      "provenance": [],
      "authorship_tag": "ABX9TyM8g6DI1cStGJkERwP6o9zV",
      "include_colab_link": true
    },
    "kernelspec": {
      "name": "python3",
      "display_name": "Python 3"
    },
    "language_info": {
      "name": "python"
    }
  },
  "cells": [
    {
      "cell_type": "markdown",
      "metadata": {
        "id": "view-in-github",
        "colab_type": "text"
      },
      "source": [
        "<a href=\"https://colab.research.google.com/github/DataDaniels/python_desafio_devpro_2/blob/main/desafio4_2_comparativo_cresc_polulacao.ipynb\" target=\"_parent\"><img src=\"https://colab.research.google.com/assets/colab-badge.svg\" alt=\"Open In Colab\"/></a>"
      ]
    },
    {
      "cell_type": "markdown",
      "source": [
        "## COMPARATIVO DE CRESCIMENTO ENTRE DUAS POPULAÇÕES"
      ],
      "metadata": {
        "id": "b_T-1vqUc5T_"
      }
    },
    {
      "cell_type": "markdown",
      "source": [
        "O programa irá calcular em quantos anos a população A irá ultrapassar a população da B e qual será o total das duas populações naquele ano."
      ],
      "metadata": {
        "id": "9NOU3R39c-wJ"
      }
    },
    {
      "cell_type": "code",
      "execution_count": 6,
      "metadata": {
        "colab": {
          "base_uri": "https://localhost:8080/"
        },
        "id": "xVyQ8tjwZ5_g",
        "outputId": "b92114c4-768a-46a2-83eb-5f60391e9e52"
      },
      "outputs": [
        {
          "output_type": "stream",
          "name": "stdout",
          "text": [
            "####### Populações no ano 63\n",
            "População de A: 514954\n",
            "População de B: 510908\n"
          ]
        }
      ],
      "source": [
        "# Neste primeiro bloco temos as variáveis de população, as taxas de crescimento, e o ano 0 de onde iniciará a análise\n",
        "# A taxa de crescimento é em %  em python se deve ler:\n",
        "  # taxa_de_crescimento_de_a é de 3%: (pegue o 3 divida por 100 e some por 1)\n",
        "  # taxa_de_crescimento_de_b é de 1,5%: (pegue o 1,5 divida por 100 e some por 1)\n",
        "populacao_a = 80_000\n",
        "populacao_b = 200_000\n",
        "taxa_de_crescimento_de_a = 1.03\n",
        "taxa_de_crescimento_de_b = 1.015\n",
        "anos = 0\n",
        "\n",
        "# Neste laço (loop \"while\") temos: enquanto a população da cidade A for menos que a a cidade B soma-se 1 ano na variável ano\n",
        "# Além disso transformando em inteiro a população da cidade A e B será multiplicada por sua taxa de crescimento a cada iteração\n",
        "while populacao_a < populacao_b: # caso usarmos os prints abaixo, teremos o resultado de cada ano exibido, porém resumi deixando como comentário para vermos somente o total\n",
        "  #print(f'####### Populações no ano {anos}')\n",
        "  #print(f'População de A: {populacao_a}')\n",
        "  #print(f'População de B: {populacao_b}')\n",
        "  anos += 1\n",
        "  populacao_a = int(populacao_a * taxa_de_crescimento_de_a)\n",
        "# Na população temos outra forma de realizar a multiplicação da própria variável mas omitindo-a usando o *= para tal.\n",
        "# Porém é preciso mencionar o int em uma outra linha de código\n",
        "  populacao_b *= taxa_de_crescimento_de_b\n",
        "  populacao_b = int(populacao_b)\n",
        "\n",
        "# Depois disso usamos o print para exibir os resultados\n",
        "print(f'####### Populações no ano {anos}')\n",
        "print(f'População de A: {populacao_a}')\n",
        "print(f'População de B: {populacao_b}')"
      ]
    }
  ]
}