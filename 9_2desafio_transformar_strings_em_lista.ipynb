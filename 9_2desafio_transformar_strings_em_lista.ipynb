{
  "nbformat": 4,
  "nbformat_minor": 0,
  "metadata": {
    "colab": {
      "provenance": [],
      "authorship_tag": "ABX9TyM66bKeWBQucAIyBgVkrv+E",
      "include_colab_link": true
    },
    "kernelspec": {
      "name": "python3",
      "display_name": "Python 3"
    },
    "language_info": {
      "name": "python"
    }
  },
  "cells": [
    {
      "cell_type": "markdown",
      "metadata": {
        "id": "view-in-github",
        "colab_type": "text"
      },
      "source": [
        "<a href=\"https://colab.research.google.com/github/DataDaniels/python_desafio_devpro_2/blob/main/9_2desafio_transformar_strings_em_lista.ipynb\" target=\"_parent\"><img src=\"https://colab.research.google.com/assets/colab-badge.svg\" alt=\"Open In Colab\"/></a>"
      ]
    },
    {
      "cell_type": "markdown",
      "source": [
        "# Programa que o nome do usuário é exibido e trás para frente"
      ],
      "metadata": {
        "id": "2z4uY5yVZDVr"
      }
    },
    {
      "cell_type": "markdown",
      "source": [
        "O programa propõe transformar tudo em letra maiúscula inclusive"
      ],
      "metadata": {
        "id": "qQoPGR-yZRay"
      }
    },
    {
      "cell_type": "code",
      "execution_count": 7,
      "metadata": {
        "colab": {
          "base_uri": "https://localhost:8080/"
        },
        "id": "rFYNU6mQX9EL",
        "outputId": "8f21af02-1d5d-45ed-c933-cedf776225b3"
      },
      "outputs": [
        {
          "output_type": "stream",
          "name": "stdout",
          "text": [
            "Nome com letras em maiúsculo: DANIEL MOREIRA\n",
            "Nome com letras em maiúsculo invertido por letras: ARIEROM LEINAD\n",
            "Nome com letras em maiúsculo invertido por palavras: MOREIRA DANIEL\n"
          ]
        }
      ],
      "source": [
        "# Transforma as letras em maiúsculo\n",
        "nome = 'Daniel Moreira'.upper()\n",
        "\n",
        "# O join com as '' serve para ajuntar todos os elmentos de string de uma lista sem nenhum separador/conector\n",
        "nome_invertido_por_letras = ''.join(reversed(nome))\n",
        "\n",
        "# Se eu quiser inverter porém a ordem dos nomes sem interver as letras, usa-se a função split que divide strings\n",
        "nome_invertido_por_palavras = ' '.join(reversed(nome.split()))\n",
        "\n",
        "print(f'Nome com letras em maiúsculo: {nome}')\n",
        "print(f'Nome com letras em maiúsculo invertido por letras: {nome_invertido_por_letras}')\n",
        "print(f'Nome com letras em maiúsculo invertido por palavras: {nome_invertido_por_palavras}')"
      ]
    }
  ]
}