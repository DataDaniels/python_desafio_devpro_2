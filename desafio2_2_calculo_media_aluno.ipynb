{
  "nbformat": 4,
  "nbformat_minor": 0,
  "metadata": {
    "colab": {
      "provenance": [],
      "authorship_tag": "ABX9TyNQzoygCPBEeB99z3/D4z7q",
      "include_colab_link": true
    },
    "kernelspec": {
      "name": "python3",
      "display_name": "Python 3"
    },
    "language_info": {
      "name": "python"
    }
  },
  "cells": [
    {
      "cell_type": "markdown",
      "metadata": {
        "id": "view-in-github",
        "colab_type": "text"
      },
      "source": [
        "<a href=\"https://colab.research.google.com/github/DataDaniels/python_desafio_devpro_2/blob/main/desafio2_2_calculo_media_aluno.ipynb\" target=\"_parent\"><img src=\"https://colab.research.google.com/assets/colab-badge.svg\" alt=\"Open In Colab\"/></a>"
      ]
    },
    {
      "cell_type": "markdown",
      "source": [
        "# Exercicio 5 - lição de casa - Estrutura de decisão"
      ],
      "metadata": {
        "id": "lvyHZDkSt2Wg"
      }
    },
    {
      "cell_type": "markdown",
      "source": [
        "O ojetivo do programa é a leitura de duas notas parciais de um aluno. O programa deve calcular a média alcançada por aluno e apresentar:\n",
        "A mensagem \"Aprovado\", se a média alcançada for maior ou igual a sete;\n",
        "A mensagem \"Reprovado\", se a média for menor do que sete;\n",
        "A mensagem \"Aprovado com Distinção\", se a média for igual a dez."
      ],
      "metadata": {
        "id": "J7Gpp0kWt028"
      }
    },
    {
      "cell_type": "code",
      "execution_count": 7,
      "metadata": {
        "id": "Dtn8hMZMHet-",
        "colab": {
          "base_uri": "https://localhost:8080/"
        },
        "outputId": "8146c7d9-6d70-4ebc-ae00-35e7220aa4d2"
      },
      "outputs": [
        {
          "output_type": "stream",
          "name": "stdout",
          "text": [
            "Insira a primeira nota: 11\n",
            "Insira a segunda nota: 15\n",
            "Sua média foi 13.0\n",
            "Aprovado com distinção\n"
          ]
        }
      ],
      "source": [
        "# Nas duas linhas abaixo inserimos um input para que os usuários possam inserir as notas, poderá ser float ou seja, número decial\n",
        "nota_1 = float(input('Insira a primeira nota: '))\n",
        "nota_2 = float(input('Insira a segunda nota: '))\n",
        "# A média é simples, a soma das duas notas dividido por dois pois são duas variáveis, duas notas\n",
        "media = (nota_1 + nota_2) / 2\n",
        "# Está linha exibe o resultado da média\n",
        "print(f'Sua média foi {media}')\n",
        "# Esta regra define o resultado da regra, ou seja: se a média for maior ou igual a 10 exiba 'Aprovado com distinção'\n",
        "if media >=10:\n",
        "  print('Aprovado com distinção')\n",
        "# Se a média for maior ou igual a 7, ou seja de 7 a 9 (pois acima já temos de 10 em diante) exiba: 'Aprovado'\n",
        "elif media >=7:\n",
        "  print('Aprovado')\n",
        "# Se não atender a nenhuma das regras acima, exiba 'Reprovado'\n",
        "else:\n",
        "  print('Reprovado')"
      ]
    }
  ]
}