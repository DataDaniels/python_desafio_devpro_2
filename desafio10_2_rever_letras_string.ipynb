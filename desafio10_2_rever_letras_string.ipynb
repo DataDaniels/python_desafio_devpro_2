{
  "nbformat": 4,
  "nbformat_minor": 0,
  "metadata": {
    "colab": {
      "provenance": [],
      "authorship_tag": "ABX9TyPu2RjnONQiZm8s96LRe50n",
      "include_colab_link": true
    },
    "kernelspec": {
      "name": "python3",
      "display_name": "Python 3"
    },
    "language_info": {
      "name": "python"
    }
  },
  "cells": [
    {
      "cell_type": "markdown",
      "metadata": {
        "id": "view-in-github",
        "colab_type": "text"
      },
      "source": [
        "<a href=\"https://colab.research.google.com/github/DataDaniels/python_desafio_devpro_2/blob/main/desafio10_2_rever_letras_string.ipynb\" target=\"_parent\"><img src=\"https://colab.research.google.com/assets/colab-badge.svg\" alt=\"Open In Colab\"/></a>"
      ]
    },
    {
      "cell_type": "markdown",
      "source": [
        "# FATIAMENTO DE STRING\n"
      ],
      "metadata": {
        "id": "_YkUDS1s0lP5"
      }
    },
    {
      "cell_type": "markdown",
      "source": [
        "Objetivo é fazer o fatiamento em python (do inglês slicing), pegar fatias da string e exibir conforme quiser.\n",
        "\n",
        "Importante lembrar que tudo que é fatiamento em string, também vale para lista.\n",
        "\n",
        "A variável s armazena a string; depois tipo é possível exibir mencionando s e o intervalo\n",
        "Lembrando que o intervalo é aberto, se inicia em 1 exibe a 2ª letra e se finaliza em 4ª ele exibe até a 3ª letra do intervalo\n",
        "Lembrando que se colocar -1 exibe a última letra"
      ],
      "metadata": {
        "id": "sH8Hp6Ti0rfV"
      }
    },
    {
      "cell_type": "code",
      "execution_count": 1,
      "metadata": {
        "colab": {
          "base_uri": "https://localhost:8080/"
        },
        "id": "Ni4N6vwZ0EcB",
        "outputId": "8a467c5d-bd19-4a42-a69c-d372ed044c99"
      },
      "outputs": [
        {
          "output_type": "stream",
          "name": "stdout",
          "text": [
            "FULANO\n",
            "FULAN\n",
            "FULA\n",
            "FUL\n",
            "FU\n",
            "F\n"
          ]
        }
      ],
      "source": [
        "# variável s armazena a string\n",
        "s = 'FULANO'\n",
        "# o laço de repetição while faz a iteração: enquanto s for diferente de '' ou seja vazio, iterar\n",
        "while s != '':\n",
        "# iterar imprimindo o s porém s excluindo sempre 1 caracter em relação à última exibição do mesmo\n",
        " print(s)\n",
        " s = s[:-1]"
      ]
    }
  ]
}