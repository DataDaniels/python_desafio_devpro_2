{
  "nbformat": 4,
  "nbformat_minor": 0,
  "metadata": {
    "colab": {
      "provenance": [],
      "authorship_tag": "ABX9TyNZeqQNBErfGkaeKwv+xdLR",
      "include_colab_link": true
    },
    "kernelspec": {
      "name": "python3",
      "display_name": "Python 3"
    },
    "language_info": {
      "name": "python"
    }
  },
  "cells": [
    {
      "cell_type": "markdown",
      "metadata": {
        "id": "view-in-github",
        "colab_type": "text"
      },
      "source": [
        "<a href=\"https://colab.research.google.com/github/DataDaniels/python_desafio_devpro_2/blob/main/desafio5_2_soma_media_sequencia_numeros.ipynb\" target=\"_parent\"><img src=\"https://colab.research.google.com/assets/colab-badge.svg\" alt=\"Open In Colab\"/></a>"
      ]
    },
    {
      "cell_type": "markdown",
      "source": [
        "## CALCULADORA MÉDIA DA SEQUÊNCIA DE NÚMEROS"
      ],
      "metadata": {
        "id": "cqwtRCEZN-xp"
      }
    },
    {
      "cell_type": "markdown",
      "source": [
        "O objetivo do programa é fazer a soma dos valores inseridos e na sequência informar a média do total.\n",
        "\n",
        "Este processo de cálculo da média deverá ocorrer por 4 vezes."
      ],
      "metadata": {
        "id": "20wOpMpbOkUF"
      }
    },
    {
      "cell_type": "code",
      "execution_count": 2,
      "metadata": {
        "id": "nl0KbLoh4Mwa",
        "colab": {
          "base_uri": "https://localhost:8080/"
        },
        "outputId": "15a43912-86b8-42c1-aff8-ee167c62c85a"
      },
      "outputs": [
        {
          "output_type": "stream",
          "name": "stdout",
          "text": [
            "Digite um número 6\n",
            "Digite um número 6\n",
            "A soma dos números é 12.0 e a média é 6.0\n",
            "Digite um número 6\n",
            "A soma dos números é 18.0 e a média é 6.0\n",
            "Digite um número 6\n",
            "A soma dos números é 24.0 e a média é 6.0\n",
            "Digite um número 6\n",
            "A soma dos números é 30.0 e a média é 6.0\n"
          ]
        }
      ],
      "source": [
        "# Na primeira linha temos a variável soma, nela o usuário irá inserir o primeiro valor. Deverá ser float (inteiro ou decimal).\n",
        "# Através do uso da f-string é possível verificar que será exibido um texto antes.\n",
        "soma = float(input('Digite um número '))\n",
        "# o loop for neste contexto tem como variável n e o loop só deverá ocorrer somente depois de 2 valores informados (primeiro parâmetro);\n",
        "# o loop irá realizar o método informado depois do for por 4 vezes (segundo parâmetro): do 2 ao 6 são 4 iterações\n",
        "for n in range(2, 6):\n",
        "# a variável soma será somada com o valor inserido, isso se dá pelo sinal += que significa a váriavel mais ela mesma.\n",
        "   soma += float(input('Digite um número '))\n",
        "# a média é igual a soma dividida pela variável n, que armazena a quantidade de iterações em seu total.\n",
        "   media = soma / n\n",
        "# para finalizar é exibido o texto abaixo exibindo o valor da soma e fa média dos valores.\n",
        "   print(f'A soma dos números é {soma} e a média é {media}')"
      ]
    }
  ]
}