{
  "nbformat": 4,
  "nbformat_minor": 0,
  "metadata": {
    "colab": {
      "provenance": [],
      "authorship_tag": "ABX9TyPACjbpdlkJWMfWRphjFYqg",
      "include_colab_link": true
    },
    "kernelspec": {
      "name": "python3",
      "display_name": "Python 3"
    },
    "language_info": {
      "name": "python"
    }
  },
  "cells": [
    {
      "cell_type": "markdown",
      "metadata": {
        "id": "view-in-github",
        "colab_type": "text"
      },
      "source": [
        "<a href=\"https://colab.research.google.com/github/DataDaniels/python_desafio_devpro_2/blob/main/desafio6_2_invertendo_elementos_lista.ipynb\" target=\"_parent\"><img src=\"https://colab.research.google.com/assets/colab-badge.svg\" alt=\"Open In Colab\"/></a>"
      ]
    },
    {
      "cell_type": "markdown",
      "source": [
        "### INVERTENDO NÚMEROS DE UMA LISTA"
      ],
      "metadata": {
        "id": "tm3dbeQ8gCaF"
      }
    },
    {
      "cell_type": "markdown",
      "source": [
        "O objetivo deste programa é ler um vetor de 10 números exibi-los na ordem inversa"
      ],
      "metadata": {
        "id": "HYCwve3NgVvW"
      }
    },
    {
      "cell_type": "code",
      "execution_count": 11,
      "metadata": {
        "colab": {
          "base_uri": "https://localhost:8080/"
        },
        "id": "47jcni32gBKN",
        "outputId": "10635632-1412-46b3-d3f4-70942919aab3"
      },
      "outputs": [
        {
          "output_type": "stream",
          "name": "stdout",
          "text": [
            "Digite um numero 1\n",
            "Digite um numero 2\n",
            "Digite um numero 3\n",
            "Digite um numero 4\n",
            "Digite um numero 5\n",
            "Digite um numero 6\n",
            "Digite um numero 7\n",
            "Digite um numero 8\n",
            "Digite um numero 9\n",
            "Digite um numero 0\n",
            "[0.0, 9.0, 8.0, 7.0, 6.0, 5.0, 4.0, 3.0, 2.0, 1.0]\n"
          ]
        }
      ],
      "source": [
        "# Em primeiro lugar é necessário criar a variável lista (vazia, sem valores)\n",
        "lista = []\n",
        "# Em seguida fazer um loop usando for onde não exibimos variável (_), e passamos um range de 10, onde temos 10 iterações:\n",
        "for _ in range(10):\n",
        "# Como método, temos a variavel numero onde serão armazenados 10 inputs do tipo float (inteiro ou decimal)\n",
        "  numero = float(input('Digite um numero '))\n",
        "# O apende se faz necessário para que os valores da variável número sejam armazenados na variável lista\n",
        "  lista.append(numero)\n",
        "# O reverse é utilizado para que a ordem de exibição seja ao contrário da ordem de inserção dos inputs do usuário\n",
        "lista.reverse()\n",
        "# Abaixo exibimos a variáve lista através do print\n",
        "print(lista)"
      ]
    }
  ]
}