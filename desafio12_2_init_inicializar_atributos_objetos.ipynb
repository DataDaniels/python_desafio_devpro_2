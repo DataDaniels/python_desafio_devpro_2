{
  "nbformat": 4,
  "nbformat_minor": 0,
  "metadata": {
    "colab": {
      "provenance": [],
      "authorship_tag": "ABX9TyOTNbevYh8cn+JG5uy61tJ7",
      "include_colab_link": true
    },
    "kernelspec": {
      "name": "python3",
      "display_name": "Python 3"
    },
    "language_info": {
      "name": "python"
    }
  },
  "cells": [
    {
      "cell_type": "markdown",
      "metadata": {
        "id": "view-in-github",
        "colab_type": "text"
      },
      "source": [
        "<a href=\"https://colab.research.google.com/github/DataDaniels/python_desafio_devpro_2/blob/main/desafio12_2_init_inicializar_atributos_objetos.ipynb\" target=\"_parent\"><img src=\"https://colab.research.google.com/assets/colab-badge.svg\" alt=\"Open In Colab\"/></a>"
      ]
    },
    {
      "cell_type": "markdown",
      "source": [
        "# CLASSE QUADRADO"
      ],
      "metadata": {
        "id": "CeCUAiai8Z22"
      }
    },
    {
      "cell_type": "markdown",
      "source": [
        "Criar classe com atributo tamanho do lado e como médodo mudar o valor do lado e calcular a área"
      ],
      "metadata": {
        "id": "TSz-hWoc8etu"
      }
    },
    {
      "cell_type": "code",
      "execution_count": 6,
      "metadata": {
        "colab": {
          "base_uri": "https://localhost:8080/"
        },
        "id": "8ympMLy-7jsQ",
        "outputId": "f4f65991-6f34-4321-9530-9f815d5eb50e"
      },
      "outputs": [
        {
          "output_type": "stream",
          "name": "stdout",
          "text": [
            "4 16\n"
          ]
        }
      ],
      "source": [
        "# Criando a classe Quadrado e o atributo lado que a principio será 1 caso não seja inserido nenhum valo no método\n",
        "class Quadrado:\n",
        "  def __init__(self, lado = 1):\n",
        "    self.lado = lado\n",
        "# Cria-se o método calcular_area e se calcula a área usando a raiz quadrada ( lado ** 2)\n",
        "  def calcular_area(self):\n",
        "    return self.lado ** 2\n",
        "# O quadrado com letra minúscula é o objeto e com letra maiúscula é a classe. Basta passar o valor do lado\n",
        "quadrado = Quadrado (4)\n",
        "# Na última linha é possível o lado e o valor da área\n",
        "print(quadrado.lado, quadrado.calcular_area())"
      ]
    }
  ]
}