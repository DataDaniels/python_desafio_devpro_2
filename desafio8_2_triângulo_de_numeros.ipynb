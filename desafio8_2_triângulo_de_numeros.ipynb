{
  "nbformat": 4,
  "nbformat_minor": 0,
  "metadata": {
    "colab": {
      "provenance": [],
      "authorship_tag": "ABX9TyP8jmy//UiitWX9Qt2I89jT",
      "include_colab_link": true
    },
    "kernelspec": {
      "name": "python3",
      "display_name": "Python 3"
    },
    "language_info": {
      "name": "python"
    }
  },
  "cells": [
    {
      "cell_type": "markdown",
      "metadata": {
        "id": "view-in-github",
        "colab_type": "text"
      },
      "source": [
        "<a href=\"https://colab.research.google.com/github/DataDaniels/python_desafio_devpro_2/blob/main/desafio8_2_tri%C3%A2ngulo_de_numeros.ipynb\" target=\"_parent\"><img src=\"https://colab.research.google.com/assets/colab-badge.svg\" alt=\"Open In Colab\"/></a>"
      ]
    },
    {
      "cell_type": "markdown",
      "source": [
        "# Triangulo de números"
      ],
      "metadata": {
        "id": "WbaJ_lUgWIie"
      }
    },
    {
      "cell_type": "markdown",
      "source": [
        "O objetivo é criar um triângulho de números porém começando com 1 em cada linha"
      ],
      "metadata": {
        "id": "dJxgSJtYWoBQ"
      }
    },
    {
      "cell_type": "code",
      "execution_count": 3,
      "metadata": {
        "colab": {
          "base_uri": "https://localhost:8080/"
        },
        "id": "wm2wCmrKUnG2",
        "outputId": "892becb9-2081-4831-bf8e-f0064b2d4680"
      },
      "outputs": [
        {
          "output_type": "stream",
          "name": "stdout",
          "text": [
            "Triangulo com 1\n",
            "1     \n",
            "Triangulo com 2\n",
            "1     \n",
            "1     2     \n",
            "Triangulo com 3\n",
            "1     \n",
            "1     2     \n",
            "1     2     3     \n"
          ]
        }
      ],
      "source": [
        "def imprimir_triangulo_de_numeros_crescentes(n: int):\n",
        "  for linha in range(1, n + 1):\n",
        "    for coluna in range(1, linha + 1):\n",
        "      print(coluna, end= '     ')\n",
        "    print('')\n",
        "\n",
        "print('Triangulo com 1')\n",
        "imprimir_triangulo_de_numeros_crescentes(1)\n",
        "print('Triangulo com 2')\n",
        "imprimir_triangulo_de_numeros_crescentes(2)\n",
        "print('Triangulo com 3')\n",
        "imprimir_triangulo_de_numeros_crescentes(3)"
      ]
    }
  ]
}