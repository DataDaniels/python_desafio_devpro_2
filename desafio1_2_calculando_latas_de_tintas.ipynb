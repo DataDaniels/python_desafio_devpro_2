{
  "nbformat": 4,
  "nbformat_minor": 0,
  "metadata": {
    "colab": {
      "provenance": [],
      "authorship_tag": "ABX9TyNTi8FmnJZsCLU4lB2QuRHs",
      "include_colab_link": true
    },
    "kernelspec": {
      "name": "python3",
      "display_name": "Python 3"
    },
    "language_info": {
      "name": "python"
    }
  },
  "cells": [
    {
      "cell_type": "markdown",
      "metadata": {
        "id": "view-in-github",
        "colab_type": "text"
      },
      "source": [
        "<a href=\"https://colab.research.google.com/github/DataDaniels/python_desafio_devpro_2/blob/main/desafio1_2_calculando_latas_de_tintas.ipynb\" target=\"_parent\"><img src=\"https://colab.research.google.com/assets/colab-badge.svg\" alt=\"Open In Colab\"/></a>"
      ]
    },
    {
      "cell_type": "markdown",
      "source": [
        "## CALCULADORA OTIMIZADORA DA LOJA DE TINTAS"
      ],
      "metadata": {
        "id": "78_OmtNxj-FA"
      }
    },
    {
      "cell_type": "markdown",
      "source": [
        "# Premissas para o programa:"
      ],
      "metadata": {
        "id": "mNxgQytjjgkC"
      }
    },
    {
      "cell_type": "markdown",
      "source": [
        "Faça um Programa para uma loja de tintas. O programa deverá pedir o tamanho em metros quadrados da área a ser pintada. Considere que a cobertura da tinta é de 1 litro para cada 6 metros quadrados e que a tinta é vendida em latas de 18 litros, que custam R$ 80,00 ou em galões de 3,6 litros, que custam R$ 25,00.\n",
        "Informe ao usuário as quantidades de tinta a serem compradas e os respectivos preços em 3 situações:\n",
        "comprar apenas latas de 18 litros; texto em itálico\n",
        "comprar apenas galões de 3,6 litros;\n",
        "misturar latas e galões, de forma que o desperdício de tinta seja menor. Acrescente 10% de folga e sempre arredonde os valores para cima, isto é, considere latas cheias. texto em itálico"
      ],
      "metadata": {
        "id": "dFuW9vIZjtsV"
      }
    },
    {
      "cell_type": "code",
      "execution_count": 2,
      "metadata": {
        "colab": {
          "base_uri": "https://localhost:8080/"
        },
        "id": "2rnlIWLrhcAF",
        "outputId": "f7461eea-c563-4864-dfbc-82d205b7ecaf"
      },
      "outputs": [
        {
          "output_type": "stream",
          "name": "stdout",
          "text": [
            "Digite a área, em metros quadrados a ser pintada: 200\n",
            "Você deverá usar 3 latas de 18 litros, no valor de R$ 240\n",
            "Você deverá usar 11 galoes de 3.6 litros, no valor de R$ 275\n",
            "Você deverá usar 2 latas de 18 litros mais 1 galões de 3.6 litros, no valor de R$ 185\n"
          ]
        }
      ],
      "source": [
        "import math ## math de matemática, onde encontramos a função ceil que arredonda\n",
        "\n",
        "area_a_ser_pintada = int(input('Digite a área, em metros quadrados a ser pintada: ')) # area em metros quadrados\n",
        "area_com_folga = area_a_ser_pintada * 1.1 # neste caso se usa 1.1 porque se quer multiplicar por 10% (1 inteiro + 1)\n",
        "litros_por_metro = 6 # variável para armazenar quantos metros se faz com 1 litro, 6 metros\n",
        "litros_a_serem_usados = area_com_folga / litros_por_metro\n",
        "\n",
        "## calculo por lata\n",
        "litros_por_lata = 18\n",
        "numero_de_latas = math.ceil(litros_a_serem_usados / litros_por_lata)\n",
        "valor_com_apenas_latas = numero_de_latas * 80\n",
        "print(f'Você deverá usar {numero_de_latas} latas de 18 litros, no valor de R$ {valor_com_apenas_latas}')\n",
        "\n",
        "## mesma lógica aplicada apenas para galoes\n",
        "litros_por_galao = 3.6\n",
        "numero_de_galoes = math.ceil(litros_a_serem_usados / litros_por_galao)\n",
        "valor_com_apenas_galoes = numero_de_galoes * 25\n",
        "print(f'Você deverá usar {numero_de_galoes} galoes de 3.6 litros, no valor de R$ {valor_com_apenas_galoes}')\n",
        "\n",
        "\n",
        "## arredondamento para baixo para poder otimizar\n",
        "numero_de_latas = math.floor(litros_a_serem_usados / litros_por_lata) # a função floor ignora a sobra, se apresento 1.5 ele me informa 1 e ignora o 0.5\n",
        "valor_de_latas = numero_de_latas * 80\n",
        "litros_faltantes = litros_a_serem_usados % litros_por_lata # o sinal de % significa uma divisão do resto\n",
        "numero_de_galoes = math.ceil(litros_faltantes / litros_por_galao)\n",
        "valor_com_galoes = numero_de_galoes * 25\n",
        "\n",
        "valor_total = valor_de_latas + valor_com_galoes\n",
        "\n",
        "print(f'Você deverá usar {numero_de_latas} latas de 18 litros mais {numero_de_galoes} galões de 3.6 litros, no valor de R$ {valor_total}')"
      ]
    }
  ]
}