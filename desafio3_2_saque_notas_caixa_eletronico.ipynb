{
  "nbformat": 4,
  "nbformat_minor": 0,
  "metadata": {
    "colab": {
      "provenance": [],
      "authorship_tag": "ABX9TyOdIgZrIYiUsqXEKJ+Rc31A",
      "include_colab_link": true
    },
    "kernelspec": {
      "name": "python3",
      "display_name": "Python 3"
    },
    "language_info": {
      "name": "python"
    }
  },
  "cells": [
    {
      "cell_type": "markdown",
      "metadata": {
        "id": "view-in-github",
        "colab_type": "text"
      },
      "source": [
        "<a href=\"https://colab.research.google.com/github/DataDaniels/python_desafio_devpro_2/blob/main/desafio3_2_saque_notas_caixa_eletronico.ipynb\" target=\"_parent\"><img src=\"https://colab.research.google.com/assets/colab-badge.svg\" alt=\"Open In Colab\"/></a>"
      ]
    },
    {
      "cell_type": "markdown",
      "source": [
        "## CAIXA ELETRÔNICO"
      ],
      "metadata": {
        "id": "zjdH3YZF6Lyd"
      }
    },
    {
      "cell_type": "markdown",
      "source": [
        "O programa será um caixa eletrônico onde o usuário irá inserir os valores e o mesmo informará quantas notas irão ser liberadas parao mesmo. São disponibilizadas as notas nos valores de: 1, 5, 10, 50 e 100."
      ],
      "metadata": {
        "id": "1h8CCzKE9sLI"
      }
    },
    {
      "cell_type": "code",
      "execution_count": 5,
      "metadata": {
        "id": "nFaSAbitqZpt",
        "colab": {
          "base_uri": "https://localhost:8080/"
        },
        "outputId": "1c0d02e1-fb63-48bd-bd06-36125b138d0d"
      },
      "outputs": [
        {
          "output_type": "stream",
          "name": "stdout",
          "text": [
            "Valor informado para saque: 565\n",
            "\n",
            " Total de notas necessárias :\n",
            "\n",
            "5 nota(s) de 100\n",
            "1 nota(s) de 50\n",
            "1 nota(s) de 10\n",
            "1 nota(s) de 5\n",
            "\n",
            " Obrigado pela preferência, até a próxima!\n"
          ]
        }
      ],
      "source": [
        "# Abaixo temo a variável saque onde o usuário irá inserir (input) o valor do saque. Deve ser um valor inteiro \"int\"\n",
        "saque = int(input('Valor informado para saque: '))\n",
        "\n",
        "# Abaixo será possível informar todas as notas disponíveis e informar que começa do zero\n",
        "notas_de_100 = notas_de_50 = notas_de_10 = notas_de_5 = notas_de_1 = 0\n",
        "\n",
        "# abaixo temos a variavel notas_de_100 e a variavel saque que fica armazenada para a próxima conta (o restante somente);\n",
        "# depois de = temos o divmod informando que o cálculo deverá ser saque dividido por 100 ou seja: quantas notas inteiras  de 100 devo fornecer)\n",
        "# É calculado e a sobra, ou seja, o valor faltante fica para a próxima nota (varivável) completar\n",
        "# print(notas_de_100,saque) - pode-se fazer para saber a prova real da linha abaixo\n",
        "# demais variáveis de notas servem para verificar a nescessidade das demais notas\n",
        "notas_de_100, saque = divmod(saque, 100)\n",
        "notas_de_50, saque = divmod(saque, 50)\n",
        "notas_de_10, saque = divmod(saque, 10)\n",
        "notas_de_5, saque = divmod(saque, 5)\n",
        "notas_de_1, saque = divmod(saque, 1)\n",
        "\n",
        "# Informa a quantidade de notas necessários para cada variável acima, ou seja, cada nota.\n",
        "print('\\n Total de notas necessárias :')\n",
        "\n",
        "# Começam as condicionais: se as notas de 100 forem maior que 0 exiba a quantidade de notas a serem fornecidas pulando uma linha e o texto 'nota(s) de 100'\n",
        "if notas_de_100 > 0:\n",
        " print(f'\\n{notas_de_100} nota(s) de 100')\n",
        "# se as notas de 50 forem maior que 0 exiba a quantidade de notas a serem fornecidas e o texto 'nota(s) de 50'\n",
        "if notas_de_50 > 0:\n",
        " print(f'{notas_de_50} nota(s) de 50')\n",
        "# se as notas de 10 forem maior que 0 exiba a quantidade de notas a serem fornecidas e o texto 'nota(s) de 10'\n",
        "if notas_de_10 > 0:\n",
        " print(f'{notas_de_10} nota(s) de 10')\n",
        "# se as notas de 5 forem maior que 0 exiba a quantidade de notas a serem fornecidas e o texto 'nota(s) de 5'\n",
        "if notas_de_5 > 0:\n",
        " print(f'{notas_de_5} nota(s) de 5')\n",
        "# se as notas de 1 forem maior que 0 exiba a quantidade de notas a serem fornecidas e o texto 'nota(s) de 1'\n",
        "if notas_de_1 > 0:\n",
        " print(f'{notas_de_1} nota(s) de 1')\n",
        "\n",
        "# Mensagem de finalização do programa agradecendo pela preferência, pulando uma linha (\\n)\n",
        "print('\\n Obrigado pela preferência, até a próxima!')"
      ]
    }
  ]
}